{
 "cells": [
  {
   "cell_type": "code",
   "execution_count": 1,
   "metadata": {},
   "outputs": [],
   "source": [
    "import pandas as pd\n",
    "import numpy as np\n",
    "import matplotlib.pyplot as plt\n",
    "from trader import Trader\n",
    "from datamodel import OrderDepth, UserId, TradingState, Order, Listing, Trade\n",
    "from utils import get_tradehistory, get_mytrades, get_pnl\n",
    "from exchange import Exchange"
   ]
  },
  {
   "cell_type": "markdown",
   "metadata": {},
   "source": [
    "Process log file to extract price data"
   ]
  },
  {
   "cell_type": "code",
   "execution_count": 4,
   "metadata": {},
   "outputs": [
    {
     "ename": "FileNotFoundError",
     "evalue": "[Errno 2] No such file or directory: 'data/trade9.log'",
     "output_type": "error",
     "traceback": [
      "\u001b[0;31m---------------------------------------------------------------------------\u001b[0m",
      "\u001b[0;31mFileNotFoundError\u001b[0m                         Traceback (most recent call last)",
      "Cell \u001b[0;32mIn[4], line 3\u001b[0m\n\u001b[1;32m      1\u001b[0m infile \u001b[38;5;241m=\u001b[39m \u001b[38;5;124mr\u001b[39m\u001b[38;5;124m\"\u001b[39m\u001b[38;5;124mdata/trade9.log\u001b[39m\u001b[38;5;124m\"\u001b[39m\n\u001b[0;32m----> 3\u001b[0m fp \u001b[38;5;241m=\u001b[39m \u001b[38;5;28;43mopen\u001b[39;49m\u001b[43m(\u001b[49m\u001b[43minfile\u001b[49m\u001b[43m)\u001b[49m\n\u001b[1;32m      4\u001b[0m start \u001b[38;5;241m=\u001b[39m \u001b[38;5;28;01mFalse\u001b[39;00m\n\u001b[1;32m      5\u001b[0m start_signal \u001b[38;5;241m=\u001b[39m \u001b[38;5;124m\"\u001b[39m\u001b[38;5;124mActivities log\u001b[39m\u001b[38;5;124m\"\u001b[39m\n",
      "File \u001b[0;32m~/Desktop/prosperity_git/prosperity_local/lib/python3.11/site-packages/IPython/core/interactiveshell.py:324\u001b[0m, in \u001b[0;36m_modified_open\u001b[0;34m(file, *args, **kwargs)\u001b[0m\n\u001b[1;32m    317\u001b[0m \u001b[38;5;28;01mif\u001b[39;00m file \u001b[38;5;129;01min\u001b[39;00m {\u001b[38;5;241m0\u001b[39m, \u001b[38;5;241m1\u001b[39m, \u001b[38;5;241m2\u001b[39m}:\n\u001b[1;32m    318\u001b[0m     \u001b[38;5;28;01mraise\u001b[39;00m \u001b[38;5;167;01mValueError\u001b[39;00m(\n\u001b[1;32m    319\u001b[0m         \u001b[38;5;124mf\u001b[39m\u001b[38;5;124m\"\u001b[39m\u001b[38;5;124mIPython won\u001b[39m\u001b[38;5;124m'\u001b[39m\u001b[38;5;124mt let you open fd=\u001b[39m\u001b[38;5;132;01m{\u001b[39;00mfile\u001b[38;5;132;01m}\u001b[39;00m\u001b[38;5;124m by default \u001b[39m\u001b[38;5;124m\"\u001b[39m\n\u001b[1;32m    320\u001b[0m         \u001b[38;5;124m\"\u001b[39m\u001b[38;5;124mas it is likely to crash IPython. If you know what you are doing, \u001b[39m\u001b[38;5;124m\"\u001b[39m\n\u001b[1;32m    321\u001b[0m         \u001b[38;5;124m\"\u001b[39m\u001b[38;5;124myou can use builtins\u001b[39m\u001b[38;5;124m'\u001b[39m\u001b[38;5;124m open.\u001b[39m\u001b[38;5;124m\"\u001b[39m\n\u001b[1;32m    322\u001b[0m     )\n\u001b[0;32m--> 324\u001b[0m \u001b[38;5;28;01mreturn\u001b[39;00m \u001b[43mio_open\u001b[49m\u001b[43m(\u001b[49m\u001b[43mfile\u001b[49m\u001b[43m,\u001b[49m\u001b[43m \u001b[49m\u001b[38;5;241;43m*\u001b[39;49m\u001b[43margs\u001b[49m\u001b[43m,\u001b[49m\u001b[43m \u001b[49m\u001b[38;5;241;43m*\u001b[39;49m\u001b[38;5;241;43m*\u001b[39;49m\u001b[43mkwargs\u001b[49m\u001b[43m)\u001b[49m\n",
      "\u001b[0;31mFileNotFoundError\u001b[0m: [Errno 2] No such file or directory: 'data/trade9.log'"
     ]
    }
   ],
   "source": [
    "infile = r\"data/trade9.log\"\n",
    "\n",
    "fp = open(infile)\n",
    "start = False\n",
    "start_signal = \"Activities log\"\n",
    "end_signal = \"Trade History\"\n",
    "outfile = \"prices_day_5.txt\"\n",
    "\n",
    "with open(outfile, \"w\") as f:\n",
    "\n",
    "    for line in fp:\n",
    "\n",
    "        if not start:\n",
    "            if start_signal in line:\n",
    "                start = True\n",
    "\n",
    "        elif start:\n",
    "            if end_signal in line:\n",
    "                break\n",
    "            \n",
    "            f.write(line)\n",
    "             \n",
    "f.close()\n",
    "fp.close()\n"
   ]
  },
  {
   "cell_type": "markdown",
   "metadata": {},
   "source": [
    "Check calculated PnL"
   ]
  },
  {
   "cell_type": "code",
   "execution_count": 2,
   "metadata": {},
   "outputs": [],
   "source": [
    "price = pd.read_csv(\"data/prices_day_5.csv\", sep=\";\")\n",
    "infile = r\"data/trades_day_5.log\"\n",
    "hist = get_tradehistory(infile)\n",
    "mytrades = get_mytrades(hist).reset_index(drop=True)\n",
    "mp = price.loc[price[\"product\"]==\"AMETHYSTS\"]"
   ]
  },
  {
   "cell_type": "code",
   "execution_count": 3,
   "metadata": {},
   "outputs": [],
   "source": [
    "pnls = get_pnl(mytrades, list(mp[\"timestamp\"]), mp)\n",
    "pnl_true = mp[\"profit_and_loss\"]"
   ]
  },
  {
   "cell_type": "code",
   "execution_count": 4,
   "metadata": {},
   "outputs": [
    {
     "data": {
      "image/png": "[encoded data removed]",
      "text/plain": [
       "<Figure size 640x480 with 1 Axes>"
      ]
     },
     "metadata": {},
     "output_type": "display_data"
    }
   ],
   "source": [
    "plt.plot(mp[\"timestamp\"], pnls, label=\"calculated\")\n",
    "plt.plot(mp[\"timestamp\"], pnl_true, color='r', label=\"from Prosperity\")\n",
    "plt.legend()\n",
    "plt.show()"
   ]
  },
  {
   "cell_type": "markdown",
   "metadata": {},
   "source": [
    "Exchange: Example with day 4 prices (3 iterations)"
   ]
  },
  {
   "cell_type": "code",
   "execution_count": 5,
   "metadata": {},
   "outputs": [
    {
     "name": "stdout",
     "output_type": "stream",
     "text": [
      "-----------------------------------------------\n",
      "timestamp:  900\n",
      "position:  {'STARFRUIT': 0, 'AMETHYSTS': 0, 'ORCHIDS': 0, 'CHOCOLATE': 0, 'STRAWBERRIES': 0, 'ROSES': 0, 'GIFT_BASKET': 0, 'COCONUT': 0, 'COCONUT_COUPON': 0}\n",
      "own trades:  {'STARFRUIT': [], 'AMETHYSTS': [], 'ORCHIDS': [], 'CHOCOLATE': [], 'STRAWBERRIES': [], 'ROSES': [], 'GIFT_BASKET': [], 'COCONUT': [], 'COCONUT_COUPON': []}\n",
      "9999.0\n",
      "-----------------------------------------------\n",
      "timestamp:  1000\n",
      "position:  {'STARFRUIT': 0, 'AMETHYSTS': -1, 'ORCHIDS': 0, 'CHOCOLATE': 0, 'STRAWBERRIES': 0, 'ROSES': 0, 'GIFT_BASKET': 0, 'COCONUT': 0, 'COCONUT_COUPON': 0}\n",
      "own trades:  {'STARFRUIT': [], 'AMETHYSTS': [(AMETHYSTS, SUBMISSION << , 10001, 2, 900), (AMETHYSTS,  << SUBMISSION, 9996, 1, 900), (AMETHYSTS,  << SUBMISSION, 9995.0, 2, 900)], 'ORCHIDS': [], 'CHOCOLATE': [], 'STRAWBERRIES': [], 'ROSES': [], 'GIFT_BASKET': [], 'COCONUT': [], 'COCONUT_COUPON': []}\n",
      "9998.0\n",
      "-----------------------------------------------\n",
      "timestamp:  1100\n",
      "position:  {'STARFRUIT': 0, 'AMETHYSTS': -4, 'ORCHIDS': 0, 'CHOCOLATE': 0, 'STRAWBERRIES': 0, 'ROSES': 0, 'GIFT_BASKET': 0, 'COCONUT': 0, 'COCONUT_COUPON': 0}\n",
      "own trades:  {'STARFRUIT': [], 'AMETHYSTS': [(AMETHYSTS, SUBMISSION << , 10002, 2, 1000), (AMETHYSTS,  << SUBMISSION, 9996, 2, 1000), (AMETHYSTS,  << SUBMISSION, 9995.0, 3, 1000)], 'ORCHIDS': [], 'CHOCOLATE': [], 'STRAWBERRIES': [], 'ROSES': [], 'GIFT_BASKET': [], 'COCONUT': [], 'COCONUT_COUPON': []}\n",
      "PnL:  {'STARFRUIT': [0.0, 0.0, 0.0], 'AMETHYSTS': [0.0, -15.0, -35.0], 'ORCHIDS': [0.0, 0.0, 0.0], 'CHOCOLATE': [0.0, 0.0, 0.0], 'STRAWBERRIES': [0.0, 0.0, 0.0], 'ROSES': [0.0, 0.0, 0.0], 'GIFT_BASKET': [0.0, 0.0, 0.0], 'COCONUT': [0.0, 0.0, 0.0], 'COCONUT_COUPON': [0.0, 0.0, 0.0]}\n"
     ]
    }
   ],
   "source": [
    "mp = pd.read_csv(\"data/prices_day_4.csv\", sep=\";\")\n",
    "timestamps = [900, 1000, 1100]\n",
    "ex = Exchange()\n",
    "trader = Trader()\n",
    "state = ex.state_start\n",
    "\n",
    "# a sample of \"result\" returned by Trader.run()\n",
    "algo_order_t1 = {\"AMETHYSTS\": [Order(\"AMETHYSTS\", 10001, 3), Order(\"AMETHYSTS\", 9995, -3)]}\n",
    "algo_order_t2 = {\"AMETHYSTS\": [Order(\"AMETHYSTS\", 10003, 2), Order(\"AMETHYSTS\", 9995, -5)]}\n",
    "algo_order_t3 = {\"AMETHYSTS\": []}\n",
    "orders = [algo_order_t1, algo_order_t2, algo_order_t3]\n",
    "\n",
    "pnls = ex.iterate(timestamps, mp, trader, \n",
    "                  extra_bot_orders=\"probabilistic\", p=1., q=.7, \n",
    "                  verbose=2, testing=(True, orders, timestamps))\n",
    "print(\"PnL: \", pnls)\n"
   ]
  },
  {
   "cell_type": "markdown",
   "metadata": {},
   "source": [
    "Exchange: Example with day 5 prices (4 iterations)"
   ]
  },
  {
   "cell_type": "code",
   "execution_count": 6,
   "metadata": {},
   "outputs": [
    {
     "name": "stdout",
     "output_type": "stream",
     "text": [
      "-----------------------------------------------\n",
      "timestamp:  0\n",
      "position:  {'STARFRUIT': 0, 'AMETHYSTS': 0, 'ORCHIDS': 0, 'CHOCOLATE': 0, 'STRAWBERRIES': 0, 'ROSES': 0, 'GIFT_BASKET': 0, 'COCONUT': 0, 'COCONUT_COUPON': 0}\n",
      "own trades:  {'STARFRUIT': [], 'AMETHYSTS': [], 'ORCHIDS': [], 'CHOCOLATE': [], 'STRAWBERRIES': [], 'ROSES': [], 'GIFT_BASKET': [], 'COCONUT': [], 'COCONUT_COUPON': []}\n",
      "9999.0\n",
      "-----------------------------------------------\n",
      "timestamp:  100\n",
      "position:  {'STARFRUIT': 0, 'AMETHYSTS': 1, 'ORCHIDS': 0, 'CHOCOLATE': 0, 'STRAWBERRIES': 0, 'ROSES': 0, 'GIFT_BASKET': 0, 'COCONUT': 0, 'COCONUT_COUPON': 0}\n",
      "own trades:  {'STARFRUIT': [], 'AMETHYSTS': [(AMETHYSTS, SUBMISSION << , 10004, 2, 0), (AMETHYSTS,  << SUBMISSION, 9998, 1, 0)], 'ORCHIDS': [], 'CHOCOLATE': [], 'STRAWBERRIES': [], 'ROSES': [], 'GIFT_BASKET': [], 'COCONUT': [], 'COCONUT_COUPON': []}\n",
      "10000.0\n",
      "-----------------------------------------------\n",
      "timestamp:  200\n",
      "position:  {'STARFRUIT': 0, 'AMETHYSTS': 2, 'ORCHIDS': 0, 'CHOCOLATE': 0, 'STRAWBERRIES': 0, 'ROSES': 0, 'GIFT_BASKET': 0, 'COCONUT': 0, 'COCONUT_COUPON': 0}\n",
      "own trades:  {'STARFRUIT': [], 'AMETHYSTS': [(AMETHYSTS, SUBMISSION << , 9999, 1, 100)], 'ORCHIDS': [], 'CHOCOLATE': [], 'STRAWBERRIES': [], 'ROSES': [], 'GIFT_BASKET': [], 'COCONUT': [], 'COCONUT_COUPON': []}\n",
      "-----------------------------------------------\n",
      "timestamp:  300\n",
      "position:  {'STARFRUIT': 0, 'AMETHYSTS': 2, 'ORCHIDS': 0, 'CHOCOLATE': 0, 'STRAWBERRIES': 0, 'ROSES': 0, 'GIFT_BASKET': 0, 'COCONUT': 0, 'COCONUT_COUPON': 0}\n",
      "own trades:  {'STARFRUIT': [], 'AMETHYSTS': [], 'ORCHIDS': [], 'CHOCOLATE': [], 'STRAWBERRIES': [], 'ROSES': [], 'GIFT_BASKET': [], 'COCONUT': [], 'COCONUT_COUPON': []}\n",
      "PnL:  {'STARFRUIT': [0.0, 0.0, 0.0, 0.0], 'AMETHYSTS': [0.0, -11.0, -10.0, -10.0], 'ORCHIDS': [0.0, 0.0, 0.0, 0.0], 'CHOCOLATE': [0.0, 0.0, 0.0, 0.0], 'STRAWBERRIES': [0.0, 0.0, 0.0, 0.0], 'ROSES': [0.0, 0.0, 0.0, 0.0], 'GIFT_BASKET': [0.0, 0.0, 0.0, 0.0], 'COCONUT': [0.0, 0.0, 0.0, 0.0], 'COCONUT_COUPON': [0.0, 0.0, 0.0, 0.0]}\n"
     ]
    }
   ],
   "source": [
    "mp = pd.read_csv(\"data/prices_day_5.csv\", sep=\";\")\n",
    "timestamps = [0, 100, 200, 300]\n",
    "ex = Exchange()\n",
    "trader = Trader()\n",
    "state = ex.state_start\n",
    "\n",
    "# a sample of \"result\" returned by Trader.run()\n",
    "algo_order_t1 = {\"AMETHYSTS\": [Order(\"AMETHYSTS\", 10005, 2), Order(\"AMETHYSTS\", 9995, -1)]}\n",
    "algo_order_t2 = {\"AMETHYSTS\": [Order(\"AMETHYSTS\", 9999, 1)]}\n",
    "algo_order_t3 = {\"AMETHYSTS\": []}\n",
    "orders = [algo_order_t1, algo_order_t2, algo_order_t3, algo_order_t3]\n",
    "\n",
    "pnls = ex.iterate(timestamps, mp, trader, \n",
    "                  extra_bot_orders=\"always\", p=1., q=1., \n",
    "                  verbose=2, testing=(True, orders, timestamps))\n",
    "print(\"PnL: \", pnls)"
   ]
  },
  {
   "cell_type": "markdown",
   "metadata": {},
   "source": [
    "Same example, but with 2 products"
   ]
  },
  {
   "cell_type": "code",
   "execution_count": 7,
   "metadata": {},
   "outputs": [
    {
     "name": "stdout",
     "output_type": "stream",
     "text": [
      "-----------------------------------------------\n",
      "timestamp:  0\n",
      "position:  {'STARFRUIT': 0, 'AMETHYSTS': 0, 'ORCHIDS': 0, 'CHOCOLATE': 0, 'STRAWBERRIES': 0, 'ROSES': 0, 'GIFT_BASKET': 0, 'COCONUT': 0, 'COCONUT_COUPON': 0}\n",
      "own trades:  {'STARFRUIT': [], 'AMETHYSTS': [], 'ORCHIDS': [], 'CHOCOLATE': [], 'STRAWBERRIES': [], 'ROSES': [], 'GIFT_BASKET': [], 'COCONUT': [], 'COCONUT_COUPON': []}\n",
      "4872.5\n",
      "9999.0\n",
      "-----------------------------------------------\n",
      "timestamp:  100\n",
      "position:  {'STARFRUIT': 0, 'AMETHYSTS': 1, 'ORCHIDS': 0, 'CHOCOLATE': 0, 'STRAWBERRIES': 0, 'ROSES': 0, 'GIFT_BASKET': 0, 'COCONUT': 0, 'COCONUT_COUPON': 0}\n",
      "own trades:  {'STARFRUIT': [(STARFRUIT, SUBMISSION << , 4865, 2, 0), (STARFRUIT,  << SUBMISSION, 4871, 2, 0)], 'AMETHYSTS': [(AMETHYSTS, SUBMISSION << , 10004, 2, 0), (AMETHYSTS,  << SUBMISSION, 9998, 1, 0)], 'ORCHIDS': [], 'CHOCOLATE': [], 'STRAWBERRIES': [], 'ROSES': [], 'GIFT_BASKET': [], 'COCONUT': [], 'COCONUT_COUPON': []}\n",
      "4875.0\n",
      "10000.0\n",
      "-----------------------------------------------\n",
      "timestamp:  200\n",
      "position:  {'STARFRUIT': 1, 'AMETHYSTS': 2, 'ORCHIDS': 0, 'CHOCOLATE': 0, 'STRAWBERRIES': 0, 'ROSES': 0, 'GIFT_BASKET': 0, 'COCONUT': 0, 'COCONUT_COUPON': 0}\n",
      "own trades:  {'STARFRUIT': [(STARFRUIT, SUBMISSION << , 4874, 1, 100)], 'AMETHYSTS': [(AMETHYSTS, SUBMISSION << , 9999, 1, 100)], 'ORCHIDS': [], 'CHOCOLATE': [], 'STRAWBERRIES': [], 'ROSES': [], 'GIFT_BASKET': [], 'COCONUT': [], 'COCONUT_COUPON': []}\n",
      "-----------------------------------------------\n",
      "timestamp:  300\n",
      "position:  {'STARFRUIT': 1, 'AMETHYSTS': 2, 'ORCHIDS': 0, 'CHOCOLATE': 0, 'STRAWBERRIES': 0, 'ROSES': 0, 'GIFT_BASKET': 0, 'COCONUT': 0, 'COCONUT_COUPON': 0}\n",
      "own trades:  {'STARFRUIT': [], 'AMETHYSTS': [], 'ORCHIDS': [], 'CHOCOLATE': [], 'STRAWBERRIES': [], 'ROSES': [], 'GIFT_BASKET': [], 'COCONUT': [], 'COCONUT_COUPON': []}\n",
      "PnL:  {'STARFRUIT': [0.0, 12.0, 13.0, 13.0], 'AMETHYSTS': [0.0, -11.0, -10.0, -10.0], 'ORCHIDS': [0.0, 0.0, 0.0, 0.0], 'CHOCOLATE': [0.0, 0.0, 0.0, 0.0], 'STRAWBERRIES': [0.0, 0.0, 0.0, 0.0], 'ROSES': [0.0, 0.0, 0.0, 0.0], 'GIFT_BASKET': [0.0, 0.0, 0.0, 0.0], 'COCONUT': [0.0, 0.0, 0.0, 0.0], 'COCONUT_COUPON': [0.0, 0.0, 0.0, 0.0]}\n"
     ]
    }
   ],
   "source": [
    "mp = pd.read_csv(\"data/prices_day_5.csv\", sep=\";\")\n",
    "timestamps = [0, 100, 200, 300]\n",
    "ex = Exchange()\n",
    "trader = Trader()\n",
    "state = ex.state_start\n",
    "\n",
    "# a sample of \"result\" returned by Trader.run()\n",
    "algo_order_t1 = {\"AMETHYSTS\": [Order(\"AMETHYSTS\", 10005, 2), Order(\"AMETHYSTS\", 9995, -1)],\n",
    "                 \"STARFRUIT\": [Order(\"STARFRUIT\", 4870, -2), Order(\"STARFRUIT\", 4865, 2)]}\n",
    "algo_order_t2 = {\"AMETHYSTS\": [Order(\"AMETHYSTS\", 9999, 1)],\n",
    "                 \"STARFRUIT\": [Order(\"STARFRUIT\", 4875, 1)]}\n",
    "algo_order_t3 = {\"AMETHYSTS\": [],\n",
    "                 \"STARFRUIT\": []}\n",
    "orders = [algo_order_t1, algo_order_t2, algo_order_t3, algo_order_t3]\n",
    "\n",
    "pnls = ex.iterate(timestamps, mp, trader, \n",
    "                  extra_bot_orders=\"always\", p=1., q=1., \n",
    "                  verbose=2, testing=(True, orders, timestamps))\n",
    "print(\"PnL: \", pnls)"
   ]
  },
  {
   "cell_type": "code",
   "execution_count": null,
   "metadata": {},
   "outputs": [],
   "source": []
  },
  {
   "cell_type": "code",
   "execution_count": null,
   "metadata": {},
   "outputs": [],
   "source": []
  }
 ],
 "metadata": {
  "kernelspec": {
   "display_name": "prosperity",
   "language": "python",
   "name": "python3"
  },
  "language_info": {
   "codemirror_mode": {
    "name": "ipython",
    "version": 3
   },
   "file_extension": ".py",
   "mimetype": "text/x-python",
   "name": "python",
   "nbconvert_exporter": "python",
   "pygments_lexer": "ipython3",
   "version": "3.11.6"
  }
 },
 "nbformat": 4,
 "nbformat_minor": 2
}
